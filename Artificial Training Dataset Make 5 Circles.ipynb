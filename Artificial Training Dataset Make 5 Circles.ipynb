{
 "cells": [
  {
   "cell_type": "code",
   "execution_count": 1,
   "metadata": {},
   "outputs": [],
   "source": [
    "import numpy as np\n",
    "import random\n",
    "import turtle\n",
    "import matplotlib.pyplot as plt\n",
    "from tqdm import tnrange\n",
    "import cv2"
   ]
  },
  {
   "cell_type": "code",
   "execution_count": 223,
   "metadata": {},
   "outputs": [
    {
     "name": "stdout",
     "output_type": "stream",
     "text": [
      "r: 255 g: 0 b: 124\n",
      "l: 140 a: 212 b: 134\n"
     ]
    },
    {
     "data": {
      "image/png": "[encoded data removed]",
      "text/plain": [
       "<Figure size 432x288 with 1 Axes>"
      ]
     },
     "metadata": {
      "needs_background": "light"
     },
     "output_type": "display_data"
    }
   ],
   "source": [
    "pink = (255/255, 0/255, 124.24968629243119/255)\n",
    "square = (np.zeros((300,300,3)) + pink)\n",
    "plt.imshow(square)\n",
    "plt.savefig(\"test.png\", color=\"rgb\")\n",
    "img = cv2.imread(\"test.png\")\n",
    "\n",
    "b, g, r = img[250,250,:]\n",
    "print(\"r:\", r, \"g:\", g, \"b:\", b)\n",
    "\n",
    "lab_img = cv2.cvtColor(img, cv2.COLOR_BGR2LAB)\n",
    "l, a, b = lab_img[250,250,:]\n",
    "print(\"l:\", l, \"a:\", a, \"b:\", b)"
   ]
  },
  {
   "cell_type": "code",
   "execution_count": 224,
   "metadata": {},
   "outputs": [
    {
     "name": "stdout",
     "output_type": "stream",
     "text": [
      "r: 0 g: 255 b: 0\n",
      "l: 224 a: 42 b: 211\n"
     ]
    },
    {
     "data": {
      "image/png": "[encoded data removed]",
      "text/plain": [
       "<Figure size 432x288 with 1 Axes>"
      ]
     },
     "metadata": {
      "needs_background": "light"
     },
     "output_type": "display_data"
    }
   ],
   "source": [
    "green = (0/255, 255/255, 0/255)\n",
    "square = (np.zeros((300,300,3)) + green)\n",
    "plt.imshow(square)\n",
    "plt.savefig(\"test.png\", color=\"rgb\")\n",
    "img = cv2.imread(\"test.png\")\n",
    "\n",
    "b, g, r = img[250,250,:]\n",
    "print(\"r:\", r, \"g:\", g, \"b:\", b)\n",
    "\n",
    "lab_img = cv2.cvtColor(img, cv2.COLOR_BGR2LAB)\n",
    "l, a, b = lab_img[250,250,:]\n",
    "print(\"l:\", l, \"a:\", a, \"b:\", b)"
   ]
  },
  {
   "cell_type": "code",
   "execution_count": 225,
   "metadata": {},
   "outputs": [
    {
     "name": "stdout",
     "output_type": "stream",
     "text": [
      "r: 100 g: 118 b: 255\n",
      "l: 140 a: 162 b: 58\n"
     ]
    },
    {
     "data": {
      "image/png": "[encoded data removed]",
      "text/plain": [
       "<Figure size 432x288 with 1 Axes>"
      ]
     },
     "metadata": {
      "needs_background": "light"
     },
     "output_type": "display_data"
    }
   ],
   "source": [
    "blue = (100/255, 118/255, 255/255)\n",
    "square = (np.zeros((300,300,3)) + blue)\n",
    "plt.imshow(square)\n",
    "plt.savefig(\"test.png\", color=\"rgb\")\n",
    "img = cv2.imread(\"test.png\")\n",
    "\n",
    "b, g, r = img[250,250,:]\n",
    "print(\"r:\", r, \"g:\", g, \"b:\", b)\n",
    "\n",
    "lab_img = cv2.cvtColor(img, cv2.COLOR_BGR2LAB)\n",
    "l, a, b = lab_img[250,250,:]\n",
    "print(\"l:\", l, \"a:\", a, \"b:\", b)"
   ]
  },
  {
   "cell_type": "code",
   "execution_count": 226,
   "metadata": {},
   "outputs": [
    {
     "name": "stdout",
     "output_type": "stream",
     "text": [
      "r: 150 g: 115 b: 200\n",
      "l: 140 a: 159 b: 89\n"
     ]
    },
    {
     "data": {
      "image/png": "[encoded data removed]",
      "text/plain": [
       "<Figure size 432x288 with 1 Axes>"
      ]
     },
     "metadata": {
      "needs_background": "light"
     },
     "output_type": "display_data"
    }
   ],
   "source": [
    "purple = (150/255, 115/255, 200/255)\n",
    "square = (np.zeros((300,300,3)) + purple)\n",
    "plt.imshow(square)\n",
    "plt.savefig(\"test.png\", color=\"rgb\")\n",
    "img = cv2.imread(\"test.png\")\n",
    "\n",
    "b, g, r = img[250,250,:]\n",
    "print(\"r:\", r, \"g:\", g, \"b:\", b)\n",
    "\n",
    "lab_img = cv2.cvtColor(img, cv2.COLOR_BGR2LAB)\n",
    "l, a, b = lab_img[250,250,:]\n",
    "print(\"l:\", l, \"a:\", a, \"b:\", b)"
   ]
  },
  {
   "cell_type": "code",
   "execution_count": 227,
   "metadata": {
    "scrolled": true
   },
   "outputs": [
    {
     "name": "stdout",
     "output_type": "stream",
     "text": [
      "r: 225 g: 87 b: 0\n",
      "l: 140 a: 179 b: 192\n"
     ]
    },
    {
     "data": {
      "image/png": "[encoded data removed]",
      "text/plain": [
       "<Figure size 432x288 with 1 Axes>"
      ]
     },
     "metadata": {
      "needs_background": "light"
     },
     "output_type": "display_data"
    }
   ],
   "source": [
    "orange = (225/255, 87/255, 0/255)\n",
    "square = (np.zeros((300,300,3)) + orange)\n",
    "plt.imshow(square)\n",
    "plt.savefig(\"test.png\", color=\"rgb\")\n",
    "img = cv2.imread(\"test.png\")\n",
    "\n",
    "b, g, r = img[250,250,:]\n",
    "print(\"r:\", r, \"g:\", g, \"b:\", b)\n",
    "\n",
    "lab_img = cv2.cvtColor(img, cv2.COLOR_BGR2LAB)\n",
    "l, a, b = lab_img[250,250,:]\n",
    "print(\"l:\", l, \"a:\", a, \"b:\", b)"
   ]
  },
  {
   "cell_type": "code",
   "execution_count": 310,
   "metadata": {},
   "outputs": [],
   "source": [
    "def make_random_circles_5_colors(num_circle_pairs, save_dir):\n",
    "    for i in tnrange(num_circle_pairs, desc=\"Generating Circle Pairs\"):\n",
    "        colors = [pink, green, blue, purple, orange]\n",
    "        random.shuffle(colors)\n",
    "\n",
    "        fig, ax = plt.subplots()\n",
    "        fig.set_size_inches(1, 1)\n",
    "\n",
    "        # Create 1-5 circles\n",
    "        num_circles = random.randint(1,5)\n",
    "\n",
    "        # Create 1-5 radii\n",
    "        radii = []\n",
    "        for x in range(num_circles):\n",
    "            radii.append((random.random() + .5) / 6)\n",
    "\n",
    "        # Hopefully small circles placed on top of big circles instead of the other way around\n",
    "        radii = sorted(radii, reverse=True)\n",
    "\n",
    "        # Place the circles, assign one of the possible colors\n",
    "        for radius in radii:\n",
    "            x, y = random.random(), random.random()\n",
    "\n",
    "            border = plt.Circle((x, y), radius+.02, color=\"black\")\n",
    "            fill = plt.Circle((x, y), radius, color=colors.pop())\n",
    "\n",
    "            ax.add_artist(border)\n",
    "            ax.add_artist(fill)\n",
    "\n",
    "        plt.axis(\"off\")\n",
    "\n",
    "        plt.savefig(save_dir + str(i) + \".jpg\", dpi=256)\n",
    "\n",
    "        plt.close()"
   ]
  },
  {
   "cell_type": "code",
   "execution_count": 311,
   "metadata": {},
   "outputs": [
    {
     "data": {
      "application/vnd.jupyter.widget-view+json": {
       "model_id": "be416c315ee246eb9f4c1f1a6918b8a1",
       "version_major": 2,
       "version_minor": 0
      },
      "text/plain": [
       "HBox(children=(IntProgress(value=0, description='Generating Circle Pairs', style=ProgressStyle(description_wid…"
      ]
     },
     "metadata": {},
     "output_type": "display_data"
    },
    {
     "name": "stdout",
     "output_type": "stream",
     "text": [
      "\n"
     ]
    }
   ],
   "source": [
    "make_random_circles_5_colors(100, \"new_circles/\")"
   ]
  },
  {
   "cell_type": "code",
   "execution_count": 307,
   "metadata": {
    "scrolled": true
   },
   "outputs": [
    {
     "data": {
      "text/plain": [
       "<matplotlib.image.AxesImage at 0x7f36f20db470>"
      ]
     },
     "execution_count": 307,
     "metadata": {},
     "output_type": "execute_result"
    },
    {
     "data": {
      "image/png": "[encoded data removed]",
      "text/plain": [
       "<Figure size 432x288 with 1 Axes>"
      ]
     },
     "metadata": {
      "needs_background": "light"
     },
     "output_type": "display_data"
    }
   ],
   "source": [
    "# G and R reversed because cv2 hates me specifically\n",
    "img = cv2.imread(\"test.jpg\")\n",
    "plt.axis(\"off\")\n",
    "plt.imshow(img)\n"
   ]
  },
  {
   "cell_type": "code",
   "execution_count": 302,
   "metadata": {},
   "outputs": [
    {
     "data": {
      "text/plain": [
       "array([200, 115, 150], dtype=uint8)"
      ]
     },
     "execution_count": 302,
     "metadata": {},
     "output_type": "execute_result"
    }
   ],
   "source": [
    "img[150][175]"
   ]
  },
  {
   "cell_type": "code",
   "execution_count": 199,
   "metadata": {
    "scrolled": true
   },
   "outputs": [
    {
     "data": {
      "text/plain": [
       "[5, 4, 3, 2, 1]"
      ]
     },
     "execution_count": 199,
     "metadata": {},
     "output_type": "execute_result"
    }
   ],
   "source": [
    "a = [1,4,3,2,5]\n",
    "sorted(a, reverse=True)"
   ]
  },
  {
   "cell_type": "code",
   "execution_count": 23,
   "metadata": {
    "scrolled": true
   },
   "outputs": [
    {
     "data": {
      "text/plain": [
       "<matplotlib.image.AxesImage at 0x7f965cf675c0>"
      ]
     },
     "execution_count": 23,
     "metadata": {},
     "output_type": "execute_result"
    },
    {
     "data": {
      "image/png": "[encoded data removed]",
      "text/plain": [
       "<Figure size 432x288 with 1 Axes>"
      ]
     },
     "metadata": {
      "needs_background": "light"
     },
     "output_type": "display_data"
    }
   ],
   "source": [
    "blue = (85/255, 100/255, 255/255)\n",
    "red = (244/255, 0, 0)\n",
    "avg = 1-(np.zeros((300,300,3)) + (np.array(blue) + np.array(red)) / 2)\n",
    "plt.imshow(avg)\n",
    "\n"
   ]
  },
  {
   "cell_type": "code",
   "execution_count": 32,
   "metadata": {},
   "outputs": [],
   "source": [
    "y_pred = np.zeros((8,300,300,2))\n",
    "y_pred.shape\n",
    "y_pred[0] = 100"
   ]
  },
  {
   "cell_type": "code",
   "execution_count": 33,
   "metadata": {},
   "outputs": [
    {
     "data": {
      "text/plain": [
       "array([10000., 10000.,     0.,     0.,     0.,     0.,     0.,     0.])"
      ]
     },
     "execution_count": 33,
     "metadata": {},
     "output_type": "execute_result"
    }
   ],
   "source": [
    "image_difference = np.mean(np.square(y_pred[::2] - y_pred[1::2]), axis = (1, 2, 3))\n",
    "image_difference = np.repeat(image_difference, 2, axis=0)\n",
    "image_difference"
   ]
  },
  {
   "cell_type": "code",
   "execution_count": 15,
   "metadata": {},
   "outputs": [],
   "source": [
    "def make_random_circle_pairs(num_pairs, save_dir):\n",
    "\n",
    "    for i in tnrange(num_pairs, desc=\"Generating Circle Pairs\"):\n",
    "\n",
    "        fig, ax = plt.subplots()\n",
    "        fig.set_size_inches(1, 1)\n",
    "        \n",
    "\n",
    "        radius = (random.random() + .5) / 2\n",
    "        x, y = random.random(), random.random()\n",
    "        \n",
    "    \n",
    "        \n",
    "        r = plt.Circle((x, y), radius, color=red)\n",
    "        ax.add_artist(r)\n",
    "        plt.axis(\"off\")\n",
    "        plt.savefig(save_dir + str(i) + 'r.jpeg', dpi=256)\n",
    "\n",
    "        plt.close()\n",
    "\n",
    "\n",
    "        fig, ax = plt.subplots()\n",
    "        fig.set_size_inches(1, 1)\n",
    "\n",
    "\n",
    "        b = plt.Circle((x, y), radius, color=blue)\n",
    "        ax.add_artist(b)\n",
    "        plt.axis(\"off\")\n",
    "\n",
    "\n",
    "        plt.savefig(save_dir + str(i) + 'b.jpeg', dpi=256)\n",
    "        plt.close()"
   ]
  },
  {
   "cell_type": "code",
   "execution_count": 16,
   "metadata": {},
   "outputs": [
    {
     "data": {
      "application/vnd.jupyter.widget-view+json": {
       "model_id": "cd4cbf73a4c646d1968ed9877d81fa7c",
       "version_major": 2,
       "version_minor": 0
      },
      "text/plain": [
       "HBox(children=(IntProgress(value=0, description='Generating Circle Pairs', style=ProgressStyle(description_wid…"
      ]
     },
     "metadata": {},
     "output_type": "display_data"
    },
    {
     "name": "stdout",
     "output_type": "stream",
     "text": [
      "\n"
     ]
    }
   ],
   "source": [
    "# Training set\n",
    "make_random_circle_pairs(100, \"circle_pairs/train/\")"
   ]
  },
  {
   "cell_type": "code",
   "execution_count": 17,
   "metadata": {},
   "outputs": [
    {
     "data": {
      "application/vnd.jupyter.widget-view+json": {
       "model_id": "921371ec5cbf43e8a858802bc74d1086",
       "version_major": 2,
       "version_minor": 0
      },
      "text/plain": [
       "HBox(children=(IntProgress(value=0, description='Generating Circle Pairs', max=20, style=ProgressStyle(descrip…"
      ]
     },
     "metadata": {},
     "output_type": "display_data"
    },
    {
     "name": "stdout",
     "output_type": "stream",
     "text": [
      "\n"
     ]
    }
   ],
   "source": [
    "# Testing set\n",
    "make_random_circle_pairs(20, \"circle_pairs/test/\")"
   ]
  },
  {
   "cell_type": "code",
   "execution_count": null,
   "metadata": {},
   "outputs": [],
   "source": []
  }
 ],
 "metadata": {
  "kernelspec": {
   "display_name": "Python 3",
   "language": "python",
   "name": "python3"
  },
  "language_info": {
   "codemirror_mode": {
    "name": "ipython",
    "version": 3
   },
   "file_extension": ".py",
   "mimetype": "text/x-python",
   "name": "python",
   "nbconvert_exporter": "python",
   "pygments_lexer": "ipython3",
   "version": "3.6.7"
  }
 },
 "nbformat": 4,
 "nbformat_minor": 2
}
