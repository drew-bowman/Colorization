{
 "cells": [
  {
   "cell_type": "code",
   "execution_count": 1,
   "metadata": {},
   "outputs": [],
   "source": [
    "import numpy as np\n",
    "import random\n",
    "import turtle\n",
    "import matplotlib.pyplot as plt\n",
    "from tqdm import tnrange\n",
    "import cv2"
   ]
  },
  {
   "cell_type": "code",
   "execution_count": 2,
   "metadata": {},
   "outputs": [
    {
     "name": "stdout",
     "output_type": "stream",
     "text": [
      "r: 255 g: 0 b: 124\n",
      "l: 140 a: 212 b: 134\n"
     ]
    },
    {
     "data": {
      "image/png": "[encoded data removed]",
      "text/plain": [
       "<Figure size 432x288 with 1 Axes>"
      ]
     },
     "metadata": {
      "needs_background": "light"
     },
     "output_type": "display_data"
    }
   ],
   "source": [
    "pink = (255/255, 0/255, 124.24968629243119/255)\n",
    "square = (np.zeros((300,300,3)) + pink)\n",
    "plt.imshow(square)\n",
    "plt.savefig(\"test.png\", color=\"rgb\")\n",
    "img = cv2.imread(\"test.png\")\n",
    "\n",
    "b, g, r = img[250,250,:]\n",
    "print(\"r:\", r, \"g:\", g, \"b:\", b)\n",
    "\n",
    "lab_img = cv2.cvtColor(img, cv2.COLOR_BGR2LAB)\n",
    "l, a, b = lab_img[250,250,:]\n",
    "print(\"l:\", l, \"a:\", a, \"b:\", b)"
   ]
  },
  {
   "cell_type": "code",
   "execution_count": 3,
   "metadata": {},
   "outputs": [
    {
     "name": "stdout",
     "output_type": "stream",
     "text": [
      "r: 0 g: 255 b: 0\n",
      "l: 224 a: 42 b: 211\n"
     ]
    },
    {
     "data": {
      "image/png": "[encoded data removed]",
      "text/plain": [
       "<Figure size 432x288 with 1 Axes>"
      ]
     },
     "metadata": {
      "needs_background": "light"
     },
     "output_type": "display_data"
    }
   ],
   "source": [
    "green = (0/255, 255/255, 0/255)\n",
    "square = (np.zeros((300,300,3)) + green)\n",
    "plt.imshow(square)\n",
    "plt.savefig(\"test.png\", color=\"rgb\")\n",
    "img = cv2.imread(\"test.png\")\n",
    "\n",
    "b, g, r = img[250,250,:]\n",
    "print(\"r:\", r, \"g:\", g, \"b:\", b)\n",
    "\n",
    "lab_img = cv2.cvtColor(img, cv2.COLOR_BGR2LAB)\n",
    "l, a, b = lab_img[250,250,:]\n",
    "print(\"l:\", l, \"a:\", a, \"b:\", b)"
   ]
  },
  {
   "cell_type": "code",
   "execution_count": 4,
   "metadata": {},
   "outputs": [
    {
     "name": "stdout",
     "output_type": "stream",
     "text": [
      "r: 100 g: 118 b: 255\n",
      "l: 140 a: 162 b: 58\n"
     ]
    },
    {
     "data": {
      "image/png": "[encoded data removed]",
      "text/plain": [
       "<Figure size 432x288 with 1 Axes>"
      ]
     },
     "metadata": {
      "needs_background": "light"
     },
     "output_type": "display_data"
    }
   ],
   "source": [
    "blue = (100/255, 118/255, 255/255)\n",
    "square = (np.zeros((300,300,3)) + blue)\n",
    "plt.imshow(square)\n",
    "plt.savefig(\"test.png\", color=\"rgb\")\n",
    "img = cv2.imread(\"test.png\")\n",
    "\n",
    "b, g, r = img[250,250,:]\n",
    "print(\"r:\", r, \"g:\", g, \"b:\", b)\n",
    "\n",
    "lab_img = cv2.cvtColor(img, cv2.COLOR_BGR2LAB)\n",
    "l, a, b = lab_img[250,250,:]\n",
    "print(\"l:\", l, \"a:\", a, \"b:\", b)"
   ]
  },
  {
   "cell_type": "code",
   "execution_count": 5,
   "metadata": {},
   "outputs": [
    {
     "name": "stdout",
     "output_type": "stream",
     "text": [
      "r: 150 g: 115 b: 200\n",
      "l: 140 a: 159 b: 89\n"
     ]
    },
    {
     "data": {
      "image/png": "[encoded data removed]",
      "text/plain": [
       "<Figure size 432x288 with 1 Axes>"
      ]
     },
     "metadata": {
      "needs_background": "light"
     },
     "output_type": "display_data"
    }
   ],
   "source": [
    "purple = (150/255, 115/255, 200/255)\n",
    "square = (np.zeros((300,300,3)) + purple)\n",
    "plt.imshow(square)\n",
    "plt.savefig(\"test.png\", color=\"rgb\")\n",
    "img = cv2.imread(\"test.png\")\n",
    "\n",
    "b, g, r = img[250,250,:]\n",
    "print(\"r:\", r, \"g:\", g, \"b:\", b)\n",
    "\n",
    "lab_img = cv2.cvtColor(img, cv2.COLOR_BGR2LAB)\n",
    "l, a, b = lab_img[250,250,:]\n",
    "print(\"l:\", l, \"a:\", a, \"b:\", b)"
   ]
  },
  {
   "cell_type": "code",
   "execution_count": 6,
   "metadata": {
    "scrolled": true
   },
   "outputs": [
    {
     "name": "stdout",
     "output_type": "stream",
     "text": [
      "r: 225 g: 87 b: 0\n",
      "l: 140 a: 179 b: 192\n"
     ]
    },
    {
     "data": {
      "image/png": "[encoded data removed]",
      "text/plain": [
       "<Figure size 432x288 with 1 Axes>"
      ]
     },
     "metadata": {
      "needs_background": "light"
     },
     "output_type": "display_data"
    }
   ],
   "source": [
    "orange = (225/255, 87/255, 0/255)\n",
    "square = (np.zeros((300,300,3)) + orange)\n",
    "plt.imshow(square)\n",
    "plt.savefig(\"test.png\", color=\"rgb\")\n",
    "img = cv2.imread(\"test.png\")\n",
    "\n",
    "b, g, r = img[250,250,:]\n",
    "print(\"r:\", r, \"g:\", g, \"b:\", b)\n",
    "\n",
    "lab_img = cv2.cvtColor(img, cv2.COLOR_BGR2LAB)\n",
    "l, a, b = lab_img[250,250,:]\n",
    "print(\"l:\", l, \"a:\", a, \"b:\", b)"
   ]
  },
  {
   "cell_type": "code",
   "execution_count": 7,
   "metadata": {},
   "outputs": [],
   "source": [
    "def make_random_circles_5_colors(num_circle_pairs, save_dir):\n",
    "    for i in tnrange(num_circle_pairs, desc=\"Generating Circle Pairs\"):\n",
    "        colors = [pink, green, blue, purple, orange]\n",
    "        random.shuffle(colors)\n",
    "\n",
    "        fig, ax = plt.subplots()\n",
    "        fig.set_size_inches(1, 1)\n",
    "\n",
    "        # Create 1-5 circles\n",
    "        num_circles = random.randint(1,5)\n",
    "\n",
    "        # Create 1-5 radii\n",
    "        radii = []\n",
    "        for x in range(num_circles):\n",
    "            radii.append((random.random() + .5) / 6)\n",
    "\n",
    "        # Hopefully small circles placed on top of big circles instead of the other way around\n",
    "        radii = sorted(radii, reverse=True)\n",
    "\n",
    "        # Place the circles, assign one of the possible colors\n",
    "        for radius in radii:\n",
    "            x, y = random.random(), random.random()\n",
    "\n",
    "            border = plt.Circle((x, y), radius+.02, color=\"black\")\n",
    "            fill = plt.Circle((x, y), radius, color=colors.pop())\n",
    "\n",
    "            ax.add_artist(border)\n",
    "            ax.add_artist(fill)\n",
    "\n",
    "        plt.axis(\"off\")\n",
    "\n",
    "        plt.savefig(save_dir + str(i) + \".jpg\", dpi=256)\n",
    "\n",
    "        plt.close()"
   ]
  },
  {
   "cell_type": "code",
   "execution_count": 8,
   "metadata": {},
   "outputs": [
    {
     "data": {
      "application/vnd.jupyter.widget-view+json": {
       "model_id": "8aa0d85c902f42fba2a845a03a298527",
       "version_major": 2,
       "version_minor": 0
      },
      "text/plain": [
       "HBox(children=(IntProgress(value=0, description='Generating Circle Pairs', max=200, style=ProgressStyle(descri…"
      ]
     },
     "metadata": {},
     "output_type": "display_data"
    },
    {
     "name": "stdout",
     "output_type": "stream",
     "text": [
      "\n"
     ]
    }
   ],
   "source": [
    "# Make training data\n",
    "make_random_circles_5_colors(200, \"new_circles/train/\")"
   ]
  },
  {
   "cell_type": "code",
   "execution_count": 9,
   "metadata": {},
   "outputs": [
    {
     "data": {
      "application/vnd.jupyter.widget-view+json": {
       "model_id": "5a0979525f7444c5932eb2a2aa024fac",
       "version_major": 2,
       "version_minor": 0
      },
      "text/plain": [
       "HBox(children=(IntProgress(value=0, description='Generating Circle Pairs', max=20, style=ProgressStyle(descrip…"
      ]
     },
     "metadata": {},
     "output_type": "display_data"
    },
    {
     "name": "stdout",
     "output_type": "stream",
     "text": [
      "\n"
     ]
    }
   ],
   "source": [
    "# Make testing data\n",
    "make_random_circles_5_colors(20, \"new_circles/test/\")"
   ]
  },
  {
   "cell_type": "code",
   "execution_count": 11,
   "metadata": {
    "scrolled": true
   },
   "outputs": [
    {
     "data": {
      "text/plain": [
       "<matplotlib.image.AxesImage at 0x7ff51ad80f98>"
      ]
     },
     "execution_count": 11,
     "metadata": {},
     "output_type": "execute_result"
    },
    {
     "data": {
      "image/png": "[encoded data removed]",
      "text/plain": [
       "<Figure size 432x288 with 1 Axes>"
      ]
     },
     "metadata": {
      "needs_background": "light"
     },
     "output_type": "display_data"
    }
   ],
   "source": [
    "# G and R reversed because cv2 hates me specifically\n",
    "img = cv2.imread(\"new_circles/train/0.jpg\")\n",
    "plt.axis(\"off\")\n",
    "plt.imshow(img)\n"
   ]
  },
  {
   "cell_type": "code",
   "execution_count": null,
   "metadata": {},
   "outputs": [],
   "source": []
  }
 ],
 "metadata": {
  "kernelspec": {
   "display_name": "Python 3",
   "language": "python",
   "name": "python3"
  },
  "language_info": {
   "codemirror_mode": {
    "name": "ipython",
    "version": 3
   },
   "file_extension": ".py",
   "mimetype": "text/x-python",
   "name": "python",
   "nbconvert_exporter": "python",
   "pygments_lexer": "ipython3",
   "version": "3.6.7"
  }
 },
 "nbformat": 4,
 "nbformat_minor": 2
}
