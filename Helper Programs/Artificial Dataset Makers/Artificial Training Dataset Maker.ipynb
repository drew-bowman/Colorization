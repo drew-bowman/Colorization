{
 "cells": [
  {
   "cell_type": "markdown",
   "metadata": {},
   "source": [
    "# Artificial Training Dataset Maker\n",
    "\n",
    "## Used to create truly bimodal output to test multimodality of colorization model\n",
    "\n",
    "This program creates a pair of red and blue circles. \n",
    "Each pair has a random location and size. \n",
    "The blue and red color values have the same lightness value in LAB."
   ]
  },
  {
   "cell_type": "code",
   "execution_count": 27,
   "metadata": {},
   "outputs": [],
   "source": [
    "import numpy as np\n",
    "import random\n",
    "import turtle\n",
    "import matplotlib.pyplot as plt\n",
    "from tqdm import tnrange\n",
    "import cv2\n",
    "import math"
   ]
  },
  {
   "cell_type": "markdown",
   "metadata": {},
   "source": [
    "# Prove colors have equal L value\n",
    "## Also find midpoint between colors"
   ]
  },
  {
   "cell_type": "code",
   "execution_count": 16,
   "metadata": {},
   "outputs": [],
   "source": [
    "blue_ab = np.array([162, 58]) \n",
    "red_ab = np.array([205, 178])\n",
    "scaled_blue = blue_ab / 128 - 1\n",
    "scaled_red = red_ab / 128 - 1\n",
    "\n",
    "avg = (blue_ab + red_ab) / 2\n",
    "scaled_avg = avg / 128 - 1"
   ]
  },
  {
   "cell_type": "code",
   "execution_count": 17,
   "metadata": {},
   "outputs": [
    {
     "name": "stdout",
     "output_type": "stream",
     "text": [
      "[162  58]\n",
      "[ 0.265625 -0.546875]\n"
     ]
    }
   ],
   "source": [
    "print(blue_ab)\n",
    "print(scaled_blue)"
   ]
  },
  {
   "cell_type": "code",
   "execution_count": 18,
   "metadata": {},
   "outputs": [
    {
     "name": "stdout",
     "output_type": "stream",
     "text": [
      "[205 178]\n",
      "[0.6015625 0.390625 ]\n"
     ]
    }
   ],
   "source": [
    "print(red_ab)\n",
    "print(scaled_red)"
   ]
  },
  {
   "cell_type": "code",
   "execution_count": 20,
   "metadata": {},
   "outputs": [
    {
     "name": "stdout",
     "output_type": "stream",
     "text": [
      "[183.5 118. ]\n",
      "[ 0.43359375 -0.078125  ]\n",
      "[ 0.43359375 -0.078125  ]\n"
     ]
    }
   ],
   "source": [
    "print(avg)\n",
    "print(avg / 128 - 1)\n",
    "print(scaled_avg)"
   ]
  },
  {
   "cell_type": "code",
   "execution_count": 33,
   "metadata": {},
   "outputs": [],
   "source": [
    "def get_sqrt(dist):\n",
    "    return math.sqrt(np.sum(dist * dist))"
   ]
  },
  {
   "cell_type": "code",
   "execution_count": 35,
   "metadata": {},
   "outputs": [
    {
     "data": {
      "text/plain": [
       "0.9958716051310279"
      ]
     },
     "execution_count": 35,
     "metadata": {},
     "output_type": "execute_result"
    }
   ],
   "source": [
    "get_sqrt(scaled_red - scaled_blue)"
   ]
  },
  {
   "cell_type": "code",
   "execution_count": 39,
   "metadata": {},
   "outputs": [
    {
     "data": {
      "text/plain": [
       "0.49793580256551395"
      ]
     },
     "execution_count": 39,
     "metadata": {},
     "output_type": "execute_result"
    }
   ],
   "source": [
    "get_sqrt(scaled_avg - scaled_blue)"
   ]
  },
  {
   "cell_type": "code",
   "execution_count": 40,
   "metadata": {},
   "outputs": [
    {
     "data": {
      "text/plain": [
       "0.49793580256551395"
      ]
     },
     "execution_count": 40,
     "metadata": {},
     "output_type": "execute_result"
    }
   ],
   "source": [
    "get_sqrt(scaled_avg - scaled_red)"
   ]
  },
  {
   "cell_type": "code",
   "execution_count": 2,
   "metadata": {
    "scrolled": false
   },
   "outputs": [
    {
     "name": "stdout",
     "output_type": "stream",
     "text": [
      "r: 177 g: 76 b: 152\n",
      "l: 122 a: 178 b: 106\n"
     ]
    },
    {
     "data": {
      "image/png": "[encoded data removed]",
      "text/plain": [
       "<Figure size 432x288 with 1 Axes>"
      ]
     },
     "metadata": {
      "needs_background": "light"
     },
     "output_type": "display_data"
    }
   ],
   "source": [
    "# Old colors not quite equal\n",
    "# blue = (85/255, 100/255, 255/255)\n",
    "# red = (244/255, 0, 0)\n",
    "\n",
    "# New colors confirmed equal\n",
    "blue = (100/255, 118/255, 255/255)\n",
    "red = (255 / 255, 35/255, 50/255)\n",
    "\n",
    "avg1 = (np.zeros((300,300,3)) + (np.array(blue) + np.array(red)) / 2)\n",
    "plt.imshow(avg1)\n",
    "plt.savefig(\"test.png\", color=\"rgb\")\n",
    "img = cv2.imread(\"test.png\")\n",
    "\n",
    "b, g, r = img[250,250,:]\n",
    "print(\"r:\", r, \"g:\", g, \"b:\", b)\n",
    "\n",
    "lab_img = cv2.cvtColor(img, cv2.COLOR_BGR2LAB)\n",
    "l, a, b = lab_img[250,250,:]\n",
    "print(\"l:\", l, \"a:\", a, \"b:\", b)"
   ]
  },
  {
   "cell_type": "code",
   "execution_count": 3,
   "metadata": {},
   "outputs": [
    {
     "name": "stdout",
     "output_type": "stream",
     "text": [
      "r: 77 g: 178 b: 102\n",
      "l: 167 a: 82 b: 158\n"
     ]
    },
    {
     "data": {
      "image/png": "[encoded data removed]",
      "text/plain": [
       "<Figure size 432x288 with 1 Axes>"
      ]
     },
     "metadata": {
      "needs_background": "light"
     },
     "output_type": "display_data"
    }
   ],
   "source": [
    "avg2 = 1-avg1\n",
    "plt.imshow(avg2)\n",
    "plt.savefig(\"test.png\", color=\"rgb\")\n",
    "img = cv2.imread(\"test.png\")\n",
    "\n",
    "b, g, r = img[250,250,:]\n",
    "print(\"r:\", r, \"g:\", g, \"b:\", b)\n",
    "\n",
    "lab_img = cv2.cvtColor(img, cv2.COLOR_BGR2LAB)\n",
    "l, a, b = lab_img[250,250,:]\n",
    "print(\"l:\", l, \"a:\", a, \"b:\", b)"
   ]
  },
  {
   "cell_type": "code",
   "execution_count": 3,
   "metadata": {},
   "outputs": [],
   "source": [
    "y_pred = np.zeros((8,300,300,2))\n",
    "y_pred.shape\n",
    "y_pred[0] = 100"
   ]
  },
  {
   "cell_type": "code",
   "execution_count": 4,
   "metadata": {},
   "outputs": [
    {
     "data": {
      "text/plain": [
       "array([10000., 10000.,     0.,     0.,     0.,     0.,     0.,     0.])"
      ]
     },
     "execution_count": 4,
     "metadata": {},
     "output_type": "execute_result"
    }
   ],
   "source": [
    "image_difference = np.mean(np.square(y_pred[::2] - y_pred[1::2]), axis = (1, 2, 3))\n",
    "image_difference = np.repeat(image_difference, 2, axis=0)\n",
    "image_difference"
   ]
  },
  {
   "cell_type": "markdown",
   "metadata": {},
   "source": [
    "# Generate Circles"
   ]
  },
  {
   "cell_type": "code",
   "execution_count": 5,
   "metadata": {},
   "outputs": [],
   "source": [
    "def make_random_circle_pairs(num_pairs, save_dir):\n",
    "\n",
    "    for i in tnrange(num_pairs, desc=\"Generating Circle Pairs\"):\n",
    "\n",
    "        fig, ax = plt.subplots()\n",
    "        fig.set_size_inches(1, 1)\n",
    "        \n",
    "\n",
    "        radius = (random.random() + .5) / 2\n",
    "        x, y = random.random(), random.random()\n",
    "        \n",
    "    \n",
    "        \n",
    "        r = plt.Circle((x, y), radius, color=red)\n",
    "        ax.add_artist(r)\n",
    "        plt.axis(\"off\")\n",
    "        plt.savefig(save_dir + str(i) + 'r.jpeg', dpi=256)\n",
    "\n",
    "        plt.close()\n",
    "\n",
    "\n",
    "        fig, ax = plt.subplots()\n",
    "        fig.set_size_inches(1, 1)\n",
    "\n",
    "\n",
    "        b = plt.Circle((x, y), radius, color=blue)\n",
    "        ax.add_artist(b)\n",
    "        plt.axis(\"off\")\n",
    "\n",
    "\n",
    "        plt.savefig(save_dir + str(i) + 'b.jpeg', dpi=256)\n",
    "        plt.close()"
   ]
  },
  {
   "cell_type": "code",
   "execution_count": 7,
   "metadata": {},
   "outputs": [
    {
     "data": {
      "application/vnd.jupyter.widget-view+json": {
       "model_id": "83aff5adc932493c98b0d84237171ea0",
       "version_major": 2,
       "version_minor": 0
      },
      "text/plain": [
       "HBox(children=(IntProgress(value=0, description='Generating Circle Pairs', style=ProgressStyle(description_wid…"
      ]
     },
     "metadata": {},
     "output_type": "display_data"
    },
    {
     "name": "stdout",
     "output_type": "stream",
     "text": [
      "\n"
     ]
    }
   ],
   "source": [
    "# Training set\n",
    "make_random_circle_pairs(100, \"circle_pairs_equal_l_red_blue/train/subdir/\")"
   ]
  },
  {
   "cell_type": "code",
   "execution_count": 8,
   "metadata": {},
   "outputs": [
    {
     "data": {
      "application/vnd.jupyter.widget-view+json": {
       "model_id": "61ac3f7e62384842bbfa962d4fc871cc",
       "version_major": 2,
       "version_minor": 0
      },
      "text/plain": [
       "HBox(children=(IntProgress(value=0, description='Generating Circle Pairs', max=20, style=ProgressStyle(descrip…"
      ]
     },
     "metadata": {},
     "output_type": "display_data"
    },
    {
     "name": "stdout",
     "output_type": "stream",
     "text": [
      "\n"
     ]
    }
   ],
   "source": [
    "# Testing set\n",
    "make_random_circle_pairs(20, \"circle_pairs_equal_l_red_blue/test/\")"
   ]
  },
  {
   "cell_type": "markdown",
   "metadata": {},
   "source": [
    "# Double-check circles created correctly"
   ]
  },
  {
   "cell_type": "code",
   "execution_count": 19,
   "metadata": {},
   "outputs": [
    {
     "name": "stdout",
     "output_type": "stream",
     "text": [
      "BGR: [100 118 255]\n",
      "LAB: [140 162  58]\n"
     ]
    },
    {
     "data": {
      "image/png": "[encoded data removed]",
      "text/plain": [
       "<Figure size 432x288 with 1 Axes>"
      ]
     },
     "metadata": {
      "needs_background": "light"
     },
     "output_type": "display_data"
    }
   ],
   "source": [
    "blue_cir = cv2.imread(\"circle_pairs_equal_l_red_blue/train/subdir/1b.jpeg\")\n",
    "blue_cir = cv2.cvtColor(blue_cir, cv2.COLOR_BGR2RGB)\n",
    "plt.imshow(blue_cir)\n",
    "print(\"BGR:\", blue_cir[100,100])\n",
    "blue_lab = cv2.cvtColor(blue_cir, cv2.COLOR_RGB2LAB)\n",
    "print(\"LAB:\", blue_lab[100,100])"
   ]
  },
  {
   "cell_type": "code",
   "execution_count": 22,
   "metadata": {},
   "outputs": [
    {
     "name": "stdout",
     "output_type": "stream",
     "text": [
      "BGR: [255  34  49]\n",
      "LAB: [140 205 178]\n"
     ]
    },
    {
     "data": {
      "image/png": "[encoded data removed]",
      "text/plain": [
       "<Figure size 432x288 with 1 Axes>"
      ]
     },
     "metadata": {
      "needs_background": "light"
     },
     "output_type": "display_data"
    }
   ],
   "source": [
    "red_cir = cv2.imread(\"circle_pairs_equal_l_red_blue/train/subdir/1r.jpeg\")\n",
    "red_cir = cv2.cvtColor(red_cir, cv2.COLOR_BGR2RGB)\n",
    "plt.imshow(red_cir)\n",
    "print(\"BGR:\", red_cir[100,100])\n",
    "red_lab = cv2.cvtColor(red_cir, cv2.COLOR_RGB2LAB)\n",
    "print(\"LAB:\", red_lab[100,100])"
   ]
  },
  {
   "cell_type": "code",
   "execution_count": null,
   "metadata": {},
   "outputs": [],
   "source": []
  }
 ],
 "metadata": {
  "kernelspec": {
   "display_name": "Python 3",
   "language": "python",
   "name": "python3"
  },
  "language_info": {
   "codemirror_mode": {
    "name": "ipython",
    "version": 3
   },
   "file_extension": ".py",
   "mimetype": "text/x-python",
   "name": "python",
   "nbconvert_exporter": "python",
   "pygments_lexer": "ipython3",
   "version": "3.6.9"
  }
 },
 "nbformat": 4,
 "nbformat_minor": 2
}
