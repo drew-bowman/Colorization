{
 "cells": [
  {
   "cell_type": "code",
   "execution_count": 1,
   "metadata": {},
   "outputs": [],
   "source": [
    "import os\n",
    "import cv2\n",
    "import random"
   ]
  },
  {
   "cell_type": "code",
   "execution_count": 2,
   "metadata": {},
   "outputs": [],
   "source": [
    "def list_image_files(directory):\n",
    "    files = sorted(os.listdir(directory))\n",
    "    return [os.path.join(directory, f) for f in files if is_an_image_file(f)]\n",
    "\n",
    "def is_an_image_file(filename):\n",
    "    IMAGE_EXTENSIONS = ['.png', '.jpg', '.jpeg']\n",
    "    for ext in IMAGE_EXTENSIONS:\n",
    "        if ext in filename:\n",
    "            return True\n",
    "    return False"
   ]
  },
  {
   "cell_type": "code",
   "execution_count": 3,
   "metadata": {},
   "outputs": [],
   "source": [
    "folder_names = ['0/','1/','2/','3/','4/','5/','6/','7/','8/','9/','a/','b/','c/','d/','e/','f/']"
   ]
  },
  {
   "cell_type": "code",
   "execution_count": 4,
   "metadata": {},
   "outputs": [
    {
     "name": "stdout",
     "output_type": "stream",
     "text": [
      "25000 images located so far\n",
      "50000 images located so far\n",
      "75000 images located so far\n",
      "100000 images located so far\n",
      "125000 images located so far\n",
      "150000 images located so far\n",
      "175000 images located so far\n",
      "200000 images located so far\n",
      "225000 images located so far\n",
      "250000 images located so far\n",
      "275000 images located so far\n",
      "300000 images located so far\n",
      "\n",
      "303125 images located in total\n"
     ]
    }
   ],
   "source": [
    "all_imgs = []\n",
    "\n",
    "starting_dir = \"lsun/bedroom/\"\n",
    "for i in folder_names:\n",
    "    for j in folder_names:\n",
    "        for k in folder_names:\n",
    "            img_paths = list_image_files(starting_dir + i + j + k)\n",
    "            for img in img_paths:\n",
    "                all_imgs.append(img)\n",
    "                if (len(all_imgs)+1) % 25000 == 0:\n",
    "                    print(len(all_imgs)+1, \"images located so far\")\n",
    "print()\n",
    "print(len(all_imgs), \"images located in total\")"
   ]
  },
  {
   "cell_type": "code",
   "execution_count": 5,
   "metadata": {},
   "outputs": [
    {
     "name": "stdout",
     "output_type": "stream",
     "text": [
      "Before shuffling...\n",
      "lsun/bedroom/0/0/0/000038527b455eaccd15e623f2e229ecdbceba2b.jpg\n",
      "lsun/bedroom/0/0/0/00012e7f370296610a118b1a939906f8011c1a6d.jpg\n",
      "lsun/bedroom/0/0/0/000408a4d4f3563abf4c3fe16cef57d0ec4922a5.jpg\n",
      "\n",
      "After shuffling...\n",
      "lsun/bedroom/b/b/e/bbed3ff2d8c5323c1cad09ee15feb65ab6e3c3a8.jpg\n",
      "lsun/bedroom/4/f/5/4f5b554aaa6fe5beaa57264bb083f6be86846142.jpg\n",
      "lsun/bedroom/f/3/f/f3f9ef903ee0b193a0d9a536587ac6cb4b17d036.jpg\n"
     ]
    }
   ],
   "source": [
    "print(\"Before shuffling...\")\n",
    "for img in all_imgs[:3]:\n",
    "    print(img)\n",
    "    \n",
    "random.shuffle(all_imgs)\n",
    "\n",
    "print(\"\\nAfter shuffling...\")\n",
    "for img in all_imgs[:3]:\n",
    "    print(img)"
   ]
  },
  {
   "cell_type": "code",
   "execution_count": 6,
   "metadata": {},
   "outputs": [
    {
     "name": "stdout",
     "output_type": "stream",
     "text": [
      "All testing images saved!\n",
      "\n",
      "All training images saved!\n"
     ]
    }
   ],
   "source": [
    "# Take first 1000 images for testing\n",
    "count = 0\n",
    "for img_path in all_imgs[:1000]:\n",
    "    save_path = \"lsun/test/\" + str(count) + \".jpg\"\n",
    "\n",
    "    img = cv2.imread(img_path)\n",
    "    cv2.imwrite(save_path, img)\n",
    "    \n",
    "    count += 1\n",
    "    \n",
    "print(\"All testing images saved!\\n\")\n",
    "    \n",
    "count = 0\n",
    "# Ues remaining images for training\n",
    "for img_path in all_imgs[1000:]:\n",
    "    save_path = \"lsun/train/\" + str(count) + \".jpg\"\n",
    "\n",
    "    img = cv2.imread(img_path)\n",
    "    cv2.imwrite(save_path, img)\n",
    "    \n",
    "    count += 1\n",
    "    \n",
    "    if count+1 % 25000 == 0:\n",
    "        print(count+1, \"training images saved\")\n",
    "        \n",
    "print(\"All training images saved!\")"
   ]
  },
  {
   "cell_type": "code",
   "execution_count": 7,
   "metadata": {},
   "outputs": [
    {
     "name": "stdout",
     "output_type": "stream",
     "text": [
      "There are 1000 test images\n",
      "There are 302125 training images\n"
     ]
    }
   ],
   "source": [
    "test_images = list_image_files(\"lsun/test/\")\n",
    "print(\"There are\", len(test_images), \"test images\")\n",
    "\n",
    "train_images = list_image_files(\"lsun/train/\")\n",
    "print(\"There are\", len(train_images), \"training images\")"
   ]
  },
  {
   "cell_type": "code",
   "execution_count": null,
   "metadata": {},
   "outputs": [],
   "source": []
  }
 ],
 "metadata": {
  "kernelspec": {
   "display_name": "Python 3",
   "language": "python",
   "name": "python3"
  },
  "language_info": {
   "codemirror_mode": {
    "name": "ipython",
    "version": 3
   },
   "file_extension": ".py",
   "mimetype": "text/x-python",
   "name": "python",
   "nbconvert_exporter": "python",
   "pygments_lexer": "ipython3",
   "version": "3.6.7"
  }
 },
 "nbformat": 4,
 "nbformat_minor": 2
}
