{
 "cells": [
  {
   "cell_type": "markdown",
   "metadata": {},
   "source": [
    "# Resize_Square_Imgs\n",
    "\n",
    "This program was used to crop and reshape images to be 256x256."
   ]
  },
  {
   "cell_type": "code",
   "execution_count": 1,
   "metadata": {},
   "outputs": [],
   "source": [
    "import os\n",
    "import cv2"
   ]
  },
  {
   "cell_type": "code",
   "execution_count": 2,
   "metadata": {},
   "outputs": [],
   "source": [
    "def list_image_files(directory):\n",
    "    files = sorted(os.listdir(directory))\n",
    "    return [os.path.join(directory, f) for f in files]"
   ]
  },
  {
   "cell_type": "code",
   "execution_count": 3,
   "metadata": {},
   "outputs": [],
   "source": [
    "# Options\n",
    "img_dir = \"WHJ_Touched_Up/\"\n",
    "save_dir = \"WHJ_Resized_Square/\"\n",
    "\n",
    "desired_dim = 256"
   ]
  },
  {
   "cell_type": "code",
   "execution_count": 4,
   "metadata": {},
   "outputs": [],
   "source": [
    "# Ensure output can save in desired location\n",
    "if not os.path.exists(save_dir):\n",
    "    os.makedirs(save_dir)"
   ]
  },
  {
   "cell_type": "code",
   "execution_count": 5,
   "metadata": {},
   "outputs": [
    {
     "data": {
      "text/plain": [
       "['WHJ_Touched_Up/\"Roches Moutonnies\" Near The Mountain of The Holy Cross, American, 1873.jpg',\n",
       " 'WHJ_Touched_Up/\"The Loop\" near Georgetown, Colorado, 1885.jpg',\n",
       " 'WHJ_Touched_Up/Balanced Rock, Garden of the Gods, 1880.jpg']"
      ]
     },
     "execution_count": 5,
     "metadata": {},
     "output_type": "execute_result"
    }
   ],
   "source": [
    "img_paths = list_image_files(img_dir)\n",
    "img_paths[:3]"
   ]
  },
  {
   "cell_type": "code",
   "execution_count": 6,
   "metadata": {},
   "outputs": [
    {
     "name": "stdout",
     "output_type": "stream",
     "text": [
      "38 images resized to 256x256\n"
     ]
    }
   ],
   "source": [
    "for img_path in img_paths:\n",
    "    img = cv2.imread(img_path)\n",
    "    r, c = img.shape[:2]\n",
    "    min_dim = min(r,c)\n",
    "    # Crop to square img\n",
    "    start_r = (r - min_dim) // 2\n",
    "    start_c = (c - min_dim) // 2\n",
    "    cropped = img[start_r:start_r+min_dim, start_c:start_c+min_dim]\n",
    "    \n",
    "    # Resize to desired_dim x desired_dim resolution\n",
    "    resized = cv2.resize(cropped, (desired_dim, desired_dim))\n",
    "    \n",
    "    img_name = img_path.split(\"/\")[-1]\n",
    "    cv2.imwrite(save_dir + img_name, resized)\n",
    "    \n",
    "print(len(img_paths), \"images resized to\", str(desired_dim) + \"x\" + str(desired_dim))"
   ]
  },
  {
   "cell_type": "code",
   "execution_count": null,
   "metadata": {},
   "outputs": [],
   "source": []
  }
 ],
 "metadata": {
  "kernelspec": {
   "display_name": "Python 3",
   "language": "python",
   "name": "python3"
  },
  "language_info": {
   "codemirror_mode": {
    "name": "ipython",
    "version": 3
   },
   "file_extension": ".py",
   "mimetype": "text/x-python",
   "name": "python",
   "nbconvert_exporter": "python",
   "pygments_lexer": "ipython3",
   "version": "3.6.9"
  }
 },
 "nbformat": 4,
 "nbformat_minor": 2
}
